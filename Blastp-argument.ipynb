{
 "cells": [
  {
   "cell_type": "code",
   "execution_count": 30,
   "id": "c3752bee-135c-4df3-bf33-cce81e8cdbe9",
   "metadata": {
    "tags": []
   },
   "outputs": [],
   "source": [
    "import os\n",
    "import subprocess\n",
    "import Bio\n",
    "import sys\n",
    "import argparse\n",
    "import pathlib\n",
    "from pathlib import Path\n",
    "import tempfile\n",
    "from Bio import SeqIO, SearchIO\n",
    "import pandas as pd"
   ]
  },
  {
   "cell_type": "code",
   "execution_count": 6,
   "id": "e92fa03d-dba1-46b9-a066-8fe059a3c819",
   "metadata": {
    "tags": []
   },
   "outputs": [
    {
     "name": "stderr",
     "output_type": "stream",
     "text": [
      "usage: ipykernel_launcher.py [-h] [-i QUERY] [-c DB] [-e EVAL] [-q QCOV]\n",
      "                             [-bo BLASTO]\n",
      "ipykernel_launcher.py: error: unrecognized arguments: -f /home/honghaosu/.local/share/jupyter/runtime/kernel-5f2b2d96-a76c-4f6d-a5a0-c74657f6d472.json\n"
     ]
    },
    {
     "ename": "SystemExit",
     "evalue": "2",
     "output_type": "error",
     "traceback": [
      "An exception has occurred, use %tb to see the full traceback.\n",
      "\u001b[0;31mSystemExit\u001b[0m\u001b[0;31m:\u001b[0m 2\n"
     ]
    },
    {
     "name": "stderr",
     "output_type": "stream",
     "text": [
      "/home/honghaosu/miniconda3/lib/python3.9/site-packages/IPython/core/interactiveshell.py:3259: UserWarning: To exit: use 'exit', 'quit', or Ctrl-D.\n",
      "  warn(\"To exit: use 'exit', 'quit', or Ctrl-D.\", stacklevel=1)\n"
     ]
    }
   ],
   "source": [
    "#Define what a directory path is\n",
    "\n",
    "#Parse arguments       \n",
    "parser = argparse.ArgumentParser(description='Database named after .protein.fa')\n",
    "parser.add_argument('-i', '--query', type=str, help='Query sequences')\n",
    "parser.add_argument('-c', '--db', type=pathlib.Path, help='Directory of database')\n",
    "parser.add_argument('-e', '--eval', type=float, help='Blast e-value')\n",
    "parser.add_argument('-q', '--qcov', type=str, help='Query coverage')\n",
    "parser.add_argument('-bo', '--blasto', type=str, help='Blast output')\n",
    "parser.add_argument('-o', '--fasta', type=str, help='Name and sequence from Blast')\n",
    "\n",
    "args = parser.parse_args()\n"
   ]
  },
  {
   "cell_type": "code",
   "execution_count": 10,
   "id": "9bf6b34d-3056-495e-82d3-4e5be0e094be",
   "metadata": {
    "tags": []
   },
   "outputs": [],
   "source": [
    "#Concatenate all peps into the same variable\n",
    "print(\"Just for the first round of mining\")\n",
    "fasta_dir = args.db\n",
    "fasta_files = [f for f in os.listdir(fasta_dir) if f.endswith(\".protein.fa\")]\n",
    "\n",
    "database = ''\n",
    "\n",
    "for fasta_file in fasta_files:\n",
    "    with open(os.path.join(fasta_dir, fasta_file), 'r') as f:\n",
    "        database += f.read()\n"
   ]
  },
  {
   "cell_type": "code",
   "execution_count": null,
   "id": "76176f48-4845-42f2-a615-1bcf362e521b",
   "metadata": {},
   "outputs": [],
   "source": [
    "#makeblastdb\n",
    "with tempfile.NamedTemporaryFile(mode=\"w\", delete=False) as tmp:\n",
    "    tmp.write(database)\n",
    "    tmp_path = tmp.name\n",
    "\n",
    "def make_blastdb(db_input, db_output_dir):\n",
    "    db_output_dir_str = str(db_output_dir)\n",
    "    cmd = [\"makeblastdb\", \"-in\", db_input, \"-dbtype\", \"prot\", \"-out\", f\"{db_output_dir_str}/blastpdb\"]\n",
    "    subprocess.run(cmd)\n",
    "    print(\"makeblastdb completed\")\n",
    "\n",
    "make_blastdb(tmp_path, args.db)\n",
    "\n",
    "os.remove(tmp_path)\n"
   ]
  },
  {
   "cell_type": "code",
   "execution_count": null,
   "id": "9e008f0c-c2de-4e2d-9fce-1563f6812998",
   "metadata": {},
   "outputs": [],
   "source": [
    "#Blastp\n",
    "query_file = args.query\n",
    "db_file = f\"{args.db}/blastpdb\"\n",
    "output_file = args.blasto\n",
    "e_value = args.eval\n",
    "qcov_hsp_perc = args.qcov\n",
    "\n",
    "cmd = [\"blastp\", \"-query\", query_file, \"-db\", db_file, \"-out\", output_file, \"-evalue\", str(e_value), \"-qcov_hsp_perc\", str(qcov_hsp_perc), \"-outfmt\", \"7\"]\n",
    "subprocess.run(cmd, check=True)"
   ]
  },
  {
   "cell_type": "code",
   "execution_count": 52,
   "id": "04beff96-a38b-4514-b748-97dafa5a1e14",
   "metadata": {
    "tags": []
   },
   "outputs": [
    {
     "name": "stdout",
     "output_type": "stream",
     "text": [
      "      0                    1       2    3    4   5   6    7   8    9    10  \\\n",
      "0  AabAS   Solyc12g006530.2.1  78.844  761  161   0   1  761   1  761  0.0   \n",
      "1  AabAS  Glyma.07G001300.1.p  77.483  755  169   1   1  754   1  755  0.0   \n",
      "2  AabAS  Glyma.07G001300.2.p  77.556  753  168   1   1  752   1  753  0.0   \n",
      "3  AabAS  Glyma.08G225800.1.p  77.748  755  167   1   1  754   1  755  0.0   \n",
      "4  AabAS   Bevul.7G149700.1.p  76.587  756  174   3   1  754   1  755  0.0   \n",
      "5  AabAS   Solyc12g006505.1.1  74.113  761  197   0   1  761  21  781  0.0   \n",
      "6  AabAS  Glyma.15G065600.2.p  70.503  756  222   1   1  755   1  756  0.0   \n",
      "7  AabAS          AT1G78955.1  71.693  756  212   2   1  754   1  756  0.0   \n",
      "8  AabAS          AT1G78950.1  72.222  756  208   2   1  754   1  756  0.0   \n",
      "9  AabAS     Brara.G03624.1.p  70.503  756  221   2   1  754   1  756  0.0   \n",
      "\n",
      "     11  \n",
      "0  1297  \n",
      "1  1270  \n",
      "2  1268  \n",
      "3  1266  \n",
      "4  1249  \n",
      "5  1232  \n",
      "6  1172  \n",
      "7  1172  \n",
      "8  1171  \n",
      "9  1155  \n",
      "      0                    1       2    3    4   5   6    7   8    9    10  \\\n",
      "0  AabAS   Solyc12g006530.2.1  78.844  761  161   0   1  761   1  761  0.0   \n",
      "1  AabAS  Glyma.07G001300.1.p  77.483  755  169   1   1  754   1  755  0.0   \n",
      "2  AabAS  Glyma.07G001300.2.p  77.556  753  168   1   1  752   1  753  0.0   \n",
      "3  AabAS  Glyma.08G225800.1.p  77.748  755  167   1   1  754   1  755  0.0   \n",
      "4  AabAS   Bevul.7G149700.1.p  76.587  756  174   3   1  754   1  755  0.0   \n",
      "5  AabAS   Solyc12g006505.1.1  74.113  761  197   0   1  761  21  781  0.0   \n",
      "6  AabAS  Glyma.15G065600.2.p  70.503  756  222   1   1  755   1  756  0.0   \n",
      "7  AabAS          AT1G78955.1  71.693  756  212   2   1  754   1  756  0.0   \n",
      "8  AabAS          AT1G78950.1  72.222  756  208   2   1  754   1  756  0.0   \n",
      "9  AabAS     Brara.G03624.1.p  70.503  756  221   2   1  754   1  756  0.0   \n",
      "\n",
      "     11  \n",
      "0  1297  \n",
      "1  1270  \n",
      "2  1268  \n",
      "3  1266  \n",
      "4  1249  \n",
      "5  1232  \n",
      "6  1172  \n",
      "7  1172  \n",
      "8  1171  \n",
      "9  1155  \n",
      "0     Solyc12g006530.2.1\n",
      "1    Glyma.07G001300.1.p\n",
      "2    Glyma.07G001300.2.p\n",
      "3    Glyma.08G225800.1.p\n",
      "4     Bevul.7G149700.1.p\n",
      "5     Solyc12g006505.1.1\n",
      "6    Glyma.15G065600.2.p\n",
      "7            AT1G78955.1\n",
      "8            AT1G78950.1\n",
      "9       Brara.G03624.1.p\n",
      "Name: 1, dtype: object\n",
      "['Brara.G02103.1.p', 'Brara.C04053.1.p', 'Glyma.08G027000.3.p', 'Glyma.08G225800.1.p', 'Glyma.15G065600.2.p', 'Bradi3g03490.2.p', 'Sobic.005G167200.4.p', 'Sobic.010G253500.4.p', 'Glyma.08G027000.5.p', 'Bradi1g42000.4.p', 'AT3G29255.1', 'Solyc12g006505.1.1', 'AT1G78970.1', 'Sobic.005G092500.4.p', 'Glyma.07G001300.1.p', 'Glyma.01G001500.1.p', 'AT3G45130.1', 'Glyma.03G121500.1.p', 'Bradi3g22802.11.p', 'Brara.G00595.1.p', 'Sobic.007G078200.2.p', 'Bradi3g03490.3.p', 'Sobic.004G037300.13.p', 'Glyma.01G001300.3.p', 'Sobic.007G090472.15.p', 'Sobic.007G090472.4.p', 'Glyma.20G192700.5.p', 'Sobic.005G167200.1.p', 'Sobic.004G037300.15.p', 'Sobic.002G142300.2.p', 'Sobic.007G085800.1.p', 'Brara.F01156.1.p', 'Bradi1g42000.3.p', 'Bradi3g22786.3.p', 'AT4G15340.1', 'Glyma.08G027000.4.p', 'Sobic.004G037300.5.p', 'Glyma.20G192700.1.p', 'Bradi3g22786.1.p', 'Sobic.008G167100.1.p', 'Sobic.004G037100.1.p', 'Sobic.010G253500.2.p', 'Brara.G03624.1.p', 'Sobic.007G090469.1.p', 'Bradi3g18140.1.p', 'Solyc04g070980.4.1', 'Sobic.008G142400.1.p', 'Bradi3g22802.9.p', 'Bradi3g22802.7.p', 'Sobic.004G037200.1.p', 'Sobic.007G078200.1.p', 'Bradi3g22802.3.p', 'Sobic.007G090472.5.p', 'Sobic.001G179740.1.p', 'Bradi3g22802.12.p', 'Sobic.007G090472.14.p', 'Bevul.5G108400.1.p', 'Solyc12g006520.2.1', 'Sobic.008G142400.14.p', 'Sobic.004G037300.12.p', 'Bradi3g22802.5.p', 'Bradi3g22786.2.p', 'Brara.I04562.1.p', 'Sobic.007G090472.13.p', 'Bradi3g22802.4.p', 'Bradi1g42000.6.p', 'Sobic.008G142400.5.p', 'Bradi3g03490.1.p', 'Bradi3g22802.2.p', 'Sobic.007G043100.1.p', 'Sobic.004G037300.8.p', 'Bradi3g22786.4.p', 'Glyma.01G001300.5.p', 'Glyma.15G223600.1.p', 'Bradi3g22802.6.p', 'AT5G36150.1', 'Sobic.004G037300.14.p', 'Bradi1g42000.2.p', 'Glyma.07G001300.2.p', 'AT1G78500.1', 'Bevul.7G149700.1.p', 'Bradi3g03475.3.p', 'Bradi3g03497.10.p', 'Sobic.007G090472.3.p', 'Sobic.004G037300.11.p', 'Glyma.20G192700.2.p', 'Glyma.20G192700.3.p', 'Solyc12g006530.2.1', 'Bradi1g42000.1.p', 'Sobic.007G085800.7.p', 'AT4G15370.1', 'Bradi1g17891.1.p', 'AT1G78970.2', 'Bradi3g22802.10.p', 'Sobic.007G090472.11.p', 'Sobic.007G090472.16.p', 'AT1G78960.1', 'Glyma.01G001300.1.p', 'Glyma.08G027000.1.p', 'Sobic.008G142400.3.p', 'Bradi3g03497.1.p', 'Sobic.007G090472.9.p', 'Sobic.008G142400.4.p', 'Sobic.004G037300.9.p', 'AT1G66960.1', 'Sobic.007G090472.2.p', 'Sobic.010G253500.9.p', 'AT5G48010.1', 'Sobic.007G090472.12.p', 'Solyc05g047580.4.1', 'AT2G07050.1', 'Sobic.007G090472.10.p', 'Bradi3g22802.8.p', 'AT5G42600.1', 'Brara.D01377.1.p', 'Sobic.007G085800.2.p', 'Bradi3g03490.4.p', 'AT1G78950.1', 'Glyma.01G001300.4.p', 'AT1G78955.1', 'Sobic.007G090472.7.p', 'Sobic.007G090469.2.p', 'AT5G48010.2', 'Bevul.2G120200.1.p', 'Bradi3g22802.1.p', 'Sobic.007G085800.3.p', 'Sobic.004G037300.10.p', 'Brara.G03625.1.p', 'Bradi1g42000.5.p', 'Sobic.002G142300.3.p', 'Sobic.010G253500.5.p']\n"
     ]
    }
   ],
   "source": [
    "#Filter\n",
    "\n",
    "  \n",
    "process_cmd=['sed', '-e', '/^#/d', output_file] \n",
    "filtered=subprocess.check_output(process_cmd)\n",
    "\n",
    "# Write the output to a new file\n",
    "tmp=\"temp.tsv\" \n",
    "with open(tmp, 'wb') as f:\n",
    "    f.write(filtered)\n",
    "\n",
    "blast_df=pd.read_table(\"temp.tsv\", header=None)\n",
    "print(blast_df.head(10))\n",
    "blast_df_filtered=blast_df[blast_df[3]>600]#May make this an argument\n",
    "print(\"Sequences with amino acid length lower than 600 are removed\")\n",
    "#print(blast_df_filtered.head(10))\n",
    "\n",
    "blast_sequence=blast_df_filtered[1]\n",
    "#print(blast_sequence.head(10))\n",
    "blast_sequence_unique=list(set(blast_sequence))\n",
    "#print(blast_sequence_unique)\n",
    "\n",
    "os.remove(tmp)"
   ]
  },
  {
   "cell_type": "code",
   "execution_count": 50,
   "id": "06fd60ad-af4b-46ef-a8c5-d01938970728",
   "metadata": {
    "tags": []
   },
   "outputs": [
    {
     "name": "stdout",
     "output_type": "stream",
     "text": [
      "Empty DataFrame\n",
      "Columns: [Name, Sequence]\n",
      "Index: []\n"
     ]
    }
   ],
   "source": [
    "#Make a dictionary\n",
    "with tempfile.NamedTemporaryFile(mode=\"w\", delete=False) as tmp:\n",
    "    tmp.write(database)\n",
    "    tmp_path = tmp.name\n",
    "\n",
    "    \n",
    "def parse_fasta(fasta_file):\n",
    "    \"\"\"\n",
    "    Parses a FASTA file and returns a dictionary of sequences.\n",
    "    \"\"\"\n",
    "    sequences_dict = SeqIO.to_dict(SeqIO.parse(fasta_file, \"fasta\"))\n",
    "    return sequences_dict\n",
    "\n",
    "sequences_dict = parse_fasta(tmp_path)\n",
    "\n",
    "sequences = {}\n",
    "for seq_id, seq_record in sequences_dict.items():\n",
    "    sequences[seq_id] = str(seq_record.seq)\n",
    "#The name of the dictionary is called sequences\n",
    "\n"
   ]
  },
  {
   "cell_type": "code",
   "execution_count": 69,
   "id": "0a3413eb-71b0-4610-a5e2-b79d328d865e",
   "metadata": {
    "tags": []
   },
   "outputs": [],
   "source": [
    "#Search against dictionary\n",
    "Pep_sequence=[]\n",
    "for key in blast_sequence_unique:\n",
    "    Pep_sequence.append(sequences[key])\n",
    "\n",
    "#Combine sequence name and sequence\n",
    "\n",
    "data_dict = {'Name': blast_sequence_unique, 'Sequence': Pep_sequence}\n",
    "\n",
    "# Create the DataFrame\n",
    "Final_result = pd.DataFrame(data_dict)\n",
    "Final_result.to_csv('temp.tsv', sep='\\t', index=False, header=False)\n",
    "tsv=SeqIO.parse(\"temp.tsv\", \"tab\")\n",
    "count = SeqIO.write(tsv, args.fasta, \"fasta\")\n",
    "print(\"Converted %i records\" % count)\n",
    "\n",
    "os.remove(\"temp.tsv\")"
   ]
  },
  {
   "cell_type": "code",
   "execution_count": 58,
   "id": "364fc7f4-8d64-469a-994e-40c4575a5735",
   "metadata": {
    "tags": []
   },
   "outputs": [
    {
     "name": "stdout",
     "output_type": "stream",
     "text": [
      "MAFFT finished successfully. Output written to All-OSC-blastp.mafft\n"
     ]
    }
   ],
   "source": [
    "query=args.query\n",
    "new=args.fasta\n",
    "cat_cmd=['cat', query, new]\n",
    "cat_process=subprocess.run(cat_cmd, stdout=subprocess.PIPE, stderr=subprocess.PIPE)\n",
    "with open(\"merged.fasta\", \"w\") as f:\n",
    "    f.write(cat_process.stdout.decode())\n",
    "\n",
    "mafft_cmd=['mafft', '--maxiterate', '1000','--globalpair', 'merged.fasta']\n",
    "mafft_process = subprocess.run(mafft_cmd, stdout=subprocess.PIPE, stderr=subprocess.PIPE)\n",
    "mafft_output=args.fasta+\".mafft\"\n",
    "if mafft_process.returncode != 0:\n",
    "    print(f\"MAFFT exited with an error: {mafft_process.stderr.decode()}\")\n",
    "else:\n",
    "    # write the output to a file\n",
    "    with open(mafft_output, \"w\") as f:\n",
    "        f.write(mafft_process.stdout.decode())\n",
    "    print(f\"MAFFT finished successfully. Output written to {mafft_output}\")\n",
    "    \n",
    "os.remove(\"merged.fasta\")"
   ]
  },
  {
   "cell_type": "code",
   "execution_count": 59,
   "id": "5ea3dceb-43c2-4bc7-9ed2-423b970f4dba",
   "metadata": {
    "tags": []
   },
   "outputs": [
    {
     "name": "stdout",
     "output_type": "stream",
     "text": [
      "FastTree finished successfully. Output written to All-OSC-blastp.mafft.fst\n"
     ]
    }
   ],
   "source": [
    "fasttree_cmd=['FastTree', mafft_output]\n",
    "fasttree_process=subprocess.run(fasttree_cmd, stdout=subprocess.PIPE, stderr=subprocess.PIPE)\n",
    "fasttree_output=mafft_output+\".fst\"\n",
    "if fasttree_process.returncode != 0:\n",
    "    print(f\"FastTree exited with an error: {fasttree_process.stderr.decode()}\")\n",
    "else:\n",
    "    with open(fasttree_output, \"w\") as f:\n",
    "        f.write(fasttree_process.stdout.decode())\n",
    "    print(f\"FastTree finished successfully. Output written to {fasttree_output}\")"
   ]
  }
 ],
 "metadata": {
  "kernelspec": {
   "display_name": "Python 3 (ipykernel)",
   "language": "python",
   "name": "python3"
  },
  "language_info": {
   "codemirror_mode": {
    "name": "ipython",
    "version": 3
   },
   "file_extension": ".py",
   "mimetype": "text/x-python",
   "name": "python",
   "nbconvert_exporter": "python",
   "pygments_lexer": "ipython3",
   "version": "3.9.5"
  }
 },
 "nbformat": 4,
 "nbformat_minor": 5
}
